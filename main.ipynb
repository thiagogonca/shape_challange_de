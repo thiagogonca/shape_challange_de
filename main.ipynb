{
 "cells": [
  {
   "cell_type": "code",
   "execution_count": 1,
   "metadata": {},
   "outputs": [],
   "source": [
    "import os\n",
    "from pyspark.sql import SparkSession\n",
    "from pyspark.sql.functions import (\n",
    "    when,\n",
    "    regexp_replace,\n",
    "    col,\n",
    "    lit,\n",
    "    regexp_extract,\n",
    "    broadcast,\n",
    ")"
   ]
  },
  {
   "cell_type": "code",
   "execution_count": 2,
   "metadata": {},
   "outputs": [],
   "source": [
    "spark = ( SparkSession.builder\n",
    "   .appName(\"My App\") \n",
    "   .master(\"local\")\n",
    "   .getOrCreate()\n",
    ")\n",
    "\n",
    "container_path = os.getcwd()"
   ]
  },
  {
   "cell_type": "markdown",
   "metadata": {},
   "source": [
    "- equipment_sensors.csv"
   ]
  },
  {
   "cell_type": "code",
   "execution_count": 3,
   "metadata": {},
   "outputs": [
    {
     "name": "stdout",
     "output_type": "stream",
     "text": [
      "root\n",
      " |-- equipment_id: integer (nullable = true)\n",
      " |-- sensor_id: integer (nullable = true)\n",
      "\n",
      "+------------+---------+\n",
      "|equipment_id|sensor_id|\n",
      "+------------+---------+\n",
      "|           1|     4275|\n",
      "|           2|     5212|\n",
      "|           3|     7381|\n",
      "|           4|      396|\n",
      "|           5|     1645|\n",
      "|           6|     9532|\n",
      "|           7|     3328|\n",
      "|           8|     8461|\n",
      "|           9|     2173|\n",
      "|          10|     3499|\n",
      "|          11|     8551|\n",
      "|          12|     3965|\n",
      "|          13|     8271|\n",
      "|          14|     2768|\n",
      "|           1|     8725|\n",
      "|           2|     3167|\n",
      "|           3|     6078|\n",
      "|           4|     7001|\n",
      "|           5|     5477|\n",
      "|           6|     2278|\n",
      "+------------+---------+\n",
      "only showing top 20 rows\n",
      "\n"
     ]
    }
   ],
   "source": [
    "es = spark.read.csv(\n",
    "    f\"{container_path}/data/equipment_sensors.csv\", \n",
    "    header=True, \n",
    "    inferSchema=True\n",
    ")\n",
    "\n",
    "es.printSchema()\n",
    "es.show()"
   ]
  },
  {
   "cell_type": "markdown",
   "metadata": {},
   "source": [
    "- equipment.json"
   ]
  },
  {
   "cell_type": "code",
   "execution_count": 4,
   "metadata": {},
   "outputs": [
    {
     "name": "stdout",
     "output_type": "stream",
     "text": [
      "root\n",
      " |-- equipment_id: integer (nullable = true)\n",
      " |-- group_name: string (nullable = true)\n",
      " |-- name: string (nullable = true)\n",
      "\n",
      "+------------+----------+--------+\n",
      "|equipment_id|group_name|    name|\n",
      "+------------+----------+--------+\n",
      "|           1|  FGHQWR2Q|5310B9D7|\n",
      "|           2|  VAPQY59S|43B81579|\n",
      "|           3|  FGHQWR2Q|E1AD07D4|\n",
      "|           4|  9N127Z5P|ADE40E7F|\n",
      "|           5|  9N127Z5P|78FFAD0C|\n",
      "|           6|  PA92NCXZ|9AD15F7E|\n",
      "|           7|  FGHQWR2Q|E54B5C3A|\n",
      "|           8|  NQWPA8D3|86083278|\n",
      "|           9|  VAPQY59S|3329175B|\n",
      "|          10|  NQWPA8D3|98B84035|\n",
      "|          11|  PA92NCXZ|09C37FB8|\n",
      "|          12|  FGHQWR2Q|CF304D24|\n",
      "|          13|  Z9K1SAP4|4E834E81|\n",
      "|          14|  VAPQY59S|2C195700|\n",
      "+------------+----------+--------+\n",
      "\n"
     ]
    }
   ],
   "source": [
    "eq = spark.read.option(\"multiline\", \"true\").json(\n",
    "    f\"{container_path}/data/equipment.json\"\n",
    ")\n",
    "eq = eq.withColumn(\"equipment_id\", col(\"equipment_id\").cast(\"int\"))\n",
    "\n",
    "eq.printSchema()\n",
    "eq.show()\n"
   ]
  },
  {
   "cell_type": "code",
   "execution_count": 5,
   "metadata": {},
   "outputs": [
    {
     "name": "stdout",
     "output_type": "stream",
     "text": [
      "root\n",
      " |-- equipment_id: integer (nullable = true)\n",
      " |-- group_name: string (nullable = true)\n",
      " |-- name: string (nullable = true)\n",
      " |-- group_name_id: integer (nullable = false)\n",
      "\n",
      "+------------+----------+--------+-------------+\n",
      "|equipment_id|group_name|    name|group_name_id|\n",
      "+------------+----------+--------+-------------+\n",
      "|           1|  FGHQWR2Q|5310B9D7|            0|\n",
      "|           2|  VAPQY59S|43B81579|            1|\n",
      "|           3|  FGHQWR2Q|E1AD07D4|            0|\n",
      "|           4|  9N127Z5P|ADE40E7F|            2|\n",
      "|           5|  9N127Z5P|78FFAD0C|            2|\n",
      "|           6|  PA92NCXZ|9AD15F7E|            3|\n",
      "|           7|  FGHQWR2Q|E54B5C3A|            0|\n",
      "|           8|  NQWPA8D3|86083278|            4|\n",
      "|           9|  VAPQY59S|3329175B|            1|\n",
      "|          10|  NQWPA8D3|98B84035|            4|\n",
      "|          11|  PA92NCXZ|09C37FB8|            3|\n",
      "|          12|  FGHQWR2Q|CF304D24|            0|\n",
      "|          13|  Z9K1SAP4|4E834E81|            5|\n",
      "|          14|  VAPQY59S|2C195700|            1|\n",
      "+------------+----------+--------+-------------+\n",
      "\n"
     ]
    }
   ],
   "source": [
    "# Fazemos um mapping para o grupo dos equipamentos, para melhor performance\n",
    "\n",
    "eq = eq.withColumn(\n",
    "    \"group_name_id\",\n",
    "    when(col(\"group_name\") == \"FGHQWR2Q\", 0)\n",
    "    .when(col(\"group_name\") == \"VAPQY59S\", 1)\n",
    "    .when(col(\"group_name\") == \"9N127Z5P\", 2)\n",
    "    .when(col(\"group_name\") == \"PA92NCXZ\", 3)\n",
    "    .when(col(\"group_name\") == \"NQWPA8D3\", 4)\n",
    "    .when(col(\"group_name\") == \"Z9K1SAP4\", 5)\n",
    "    .otherwise(-1)\n",
    "    .cast(\"int\"),\n",
    ")\n",
    "\n",
    "eq.printSchema()\n",
    "eq.show()"
   ]
  },
  {
   "cell_type": "markdown",
   "metadata": {},
   "source": [
    "- equpment_failure_sensors.txt"
   ]
  },
  {
   "cell_type": "code",
   "execution_count": 6,
   "metadata": {},
   "outputs": [],
   "source": [
    "efs = spark.read.text(f\"{container_path}/data/equpment_failure_sensors.txt\")\n",
    "\n",
    "efs = efs.select(\n",
    "    regexp_extract(\"value\", r\"\\[(.*?)\\]\", 1).alias(\"date\"),\n",
    "    regexp_extract(\"value\", r\"\\]\\t(.*?)\\t\", 1).alias(\"situation\"),\n",
    "    regexp_extract(\"value\", r\"sensor\\[(.*?)\\]\", 1).alias(\"sensor\"),\n",
    "    regexp_extract(\"value\", r\"temperature\\t(.*?),\", 1).alias(\"temperature\"),\n",
    "    regexp_extract(\"value\", r\"vibration\\t(.*?)\\)\", 1).alias(\"vibration\")\n",
    ")"
   ]
  },
  {
   "cell_type": "code",
   "execution_count": 7,
   "metadata": {},
   "outputs": [
    {
     "name": "stdout",
     "output_type": "stream",
     "text": [
      "root\n",
      " |-- date: string (nullable = true)\n",
      " |-- situation: string (nullable = true)\n",
      " |-- sensor: string (nullable = true)\n",
      " |-- temperature: string (nullable = true)\n",
      " |-- vibration: string (nullable = true)\n",
      "\n"
     ]
    }
   ],
   "source": [
    "efs.printSchema()"
   ]
  },
  {
   "cell_type": "code",
   "execution_count": 8,
   "metadata": {},
   "outputs": [
    {
     "name": "stdout",
     "output_type": "stream",
     "text": [
      "+-------------------+---------+------+-----------+---------+\n",
      "|               date|situation|sensor|temperature|vibration|\n",
      "+-------------------+---------+------+-----------+---------+\n",
      "| 2021-05-18 0:20:48|    ERROR|  5820|     311.29|  6749.50|\n",
      "| 2021-05-18 0:20:48|    ERROR|  5820|     311.29|  6749.50|\n",
      "| 2021-06-14 19:46:9|    ERROR|  3359|     270.00|  -335.39|\n",
      "|2020-09-27 22:55:11|    ERROR|  9503|     255.84|  1264.54|\n",
      "|  2019-02-9 20:56:4|    ERROR|  3437|     466.57| -1865.26|\n",
      "|  2019-02-6 6:19:34|    ERROR|  2958|     143.02| -4993.13|\n",
      "|2019-08-10 20:23:22|    ERROR|  3743|     249.81|  8925.85|\n",
      "|2021-03-25 14:39:49|    ERROR|  6282|     475.57| -2859.46|\n",
      "|2020-05-15 17:30:17|    ERROR|  2477|     200.20| -6866.76|\n",
      "|2020-12-11 11:52:47|    ERROR|  3838|     330.33| -6170.30|\n",
      "| 2019-04-16 8:28:34|    ERROR|  4031|     310.94|  7200.50|\n",
      "|  2020-10-1 20:8:30|    ERROR|  6848|     495.47|  7626.35|\n",
      "| 2019-03-13 4:13:22|    ERROR|  1633|     124.81| -5077.34|\n",
      "|2020-01-11 11:43:48|    ERROR|  7474|     335.82|  9551.73|\n",
      "| 2020-02-9 13:57:55|    ERROR|  6229|     499.29|  7891.62|\n",
      "| 2020-04-22 18:30:7|    ERROR|  2722|     325.49|  4127.27|\n",
      "|2021-03-27 19:56:16|    ERROR|  2163|     465.82| -6645.87|\n",
      "|  2020-06-3 9:37:17|    ERROR|  8816|     117.71| -1004.52|\n",
      "|   2019-08-22 5:1:4|    ERROR|  4329|      97.47| -6519.88|\n",
      "|  2021-02-10 6:0:19|    ERROR|   258|     222.88|      err|\n",
      "| 2020-02-10 13:7:46|    ERROR|  6210|     463.73|  4560.12|\n",
      "|2019-09-10 17:47:27|    ERROR|  4784|     146.91| -1252.38|\n",
      "|  2019-05-16 5:8:20|    ERROR|  6743|     223.54| -7383.11|\n",
      "|2021-07-23 10:30:29|    ERROR|  6265|     450.93| -7194.56|\n",
      "| 2021-04-11 0:51:11|    ERROR|  6356|     368.22|  3363.96|\n",
      "| 2019-03-27 4:52:31|    ERROR|  2508|     381.15| -9950.29|\n",
      "|         2019/02/17|  WARNING|  9001|     467.62|  6162.13|\n",
      "+-------------------+---------+------+-----------+---------+\n",
      "only showing top 27 rows\n",
      "\n"
     ]
    }
   ],
   "source": [
    "efs.show(27)"
   ]
  },
  {
   "cell_type": "code",
   "execution_count": 9,
   "metadata": {},
   "outputs": [],
   "source": [
    "efs = (\n",
    "    efs.withColumn(\"date\", regexp_replace(\"date\", \"/\", \"-\"))\n",
    "    .withColumn(\n",
    "        \"date\",\n",
    "        when(col(\"date\").contains(\"-\"), col(\"date\")).otherwise(\n",
    "            regexp_replace(\"date\", \"(\\d{4})-(\\d{2})-(\\d{2})\", \"$1-$2-$3 00:00:00\")\n",
    "        ),\n",
    "    )\n",
    "    .withColumn(\"date\", col(\"date\").cast(\"timestamp\"))\n",
    ")\n",
    "\n",
    "#######################################################################################\n",
    "\n",
    "error_regex = r\"^\\s*(ERROR)\\s*$\"  # Caso ERROR -> 1\n",
    "warning_regex = r\"^\\s*(WARNING)\\s*$\"  # Caso WARNING -> 0\n",
    "\n",
    "\n",
    "efs = efs.withColumn(\n",
    "    \"situation\",\n",
    "    when(regexp_extract(col(\"situation\"), error_regex, 1) == \"ERROR\", 1)\n",
    "    .when(regexp_extract(col(\"situation\"), warning_regex, 1) == \"WARNING\", 0)\n",
    "    .otherwise(lit(-1)),\n",
    ")\n",
    "\n",
    "efs = efs.withColumn(\"situation\", col(\"situation\").cast(\"int\"))\n",
    "\n",
    "#######################################################################################\n",
    "\n",
    "efs = efs.withColumn(\n",
    "    \"sensor\",\n",
    "    when(col(\"sensor\").cast(\"int\").isNotNull(), col(\"sensor\").cast(\"int\")).otherwise(\n",
    "        lit(-1)\n",
    "    ),\n",
    ")\n",
    "\n",
    "efs = efs.withColumn(\n",
    "    \"temperature\",\n",
    "    when(\n",
    "        col(\"temperature\").cast(\"float\").isNotNull(), col(\"temperature\").cast(\"float\")\n",
    "    ).otherwise(lit(-1)),\n",
    ")\n",
    "\n",
    "efs = efs.withColumn(\n",
    "    \"vibration\",\n",
    "    when(\n",
    "        col(\"vibration\").cast(\"float\").isNotNull(), col(\"vibration\").cast(\"float\")\n",
    "    ).otherwise(lit(None)),\n",
    ")\n"
   ]
  },
  {
   "cell_type": "code",
   "execution_count": 10,
   "metadata": {},
   "outputs": [
    {
     "name": "stdout",
     "output_type": "stream",
     "text": [
      "+-------------------+---------+------+-----------+---------+\n",
      "|               date|situation|sensor|temperature|vibration|\n",
      "+-------------------+---------+------+-----------+---------+\n",
      "|2021-05-18 00:20:48|        1|  5820|     311.29|   6749.5|\n",
      "|2021-05-18 00:20:48|        1|  5820|     311.29|   6749.5|\n",
      "|2021-06-14 19:46:09|        1|  3359|      270.0|  -335.39|\n",
      "|2020-09-27 22:55:11|        1|  9503|     255.84|  1264.54|\n",
      "|2019-02-09 20:56:04|        1|  3437|     466.57| -1865.26|\n",
      "|2019-02-06 06:19:34|        1|  2958|     143.02| -4993.13|\n",
      "|2019-08-10 20:23:22|        1|  3743|     249.81|  8925.85|\n",
      "|2021-03-25 14:39:49|        1|  6282|     475.57| -2859.46|\n",
      "|2020-05-15 17:30:17|        1|  2477|      200.2| -6866.76|\n",
      "|2020-12-11 11:52:47|        1|  3838|     330.33|  -6170.3|\n",
      "|2019-04-16 08:28:34|        1|  4031|     310.94|   7200.5|\n",
      "|2020-10-01 20:08:30|        1|  6848|     495.47|  7626.35|\n",
      "|2019-03-13 04:13:22|        1|  1633|     124.81| -5077.34|\n",
      "|2020-01-11 11:43:48|        1|  7474|     335.82|  9551.73|\n",
      "|2020-02-09 13:57:55|        1|  6229|     499.29|  7891.62|\n",
      "|2020-04-22 18:30:07|        1|  2722|     325.49|  4127.27|\n",
      "|2021-03-27 19:56:16|        1|  2163|     465.82| -6645.87|\n",
      "|2020-06-03 09:37:17|        1|  8816|     117.71| -1004.52|\n",
      "|2019-08-22 05:01:04|        1|  4329|      97.47| -6519.88|\n",
      "|2021-02-10 06:00:19|        1|   258|     222.88|     NULL|\n",
      "|2020-02-10 13:07:46|        1|  6210|     463.73|  4560.12|\n",
      "|2019-09-10 17:47:27|        1|  4784|     146.91| -1252.38|\n",
      "|2019-05-16 05:08:20|        1|  6743|     223.54| -7383.11|\n",
      "|2021-07-23 10:30:29|        1|  6265|     450.93| -7194.56|\n",
      "|2021-04-11 00:51:11|        1|  6356|     368.22|  3363.96|\n",
      "|2019-03-27 04:52:31|        1|  2508|     381.15| -9950.29|\n",
      "|2019-02-17 00:00:00|        0|  9001|     467.62|  6162.13|\n",
      "+-------------------+---------+------+-----------+---------+\n",
      "only showing top 27 rows\n",
      "\n"
     ]
    }
   ],
   "source": [
    "efs.show(27)"
   ]
  },
  {
   "cell_type": "code",
   "execution_count": 11,
   "metadata": {},
   "outputs": [],
   "source": [
    "efs_tmp = efs.join(\n",
    "    broadcast(es),\n",
    "    on=[efs[\"sensor\"] == es[\"sensor_id\"]],\n",
    "    how=\"left\",\n",
    ")#.drop(\"sensor\")\n",
    "\n",
    "efs_tmp = efs_tmp.select(\n",
    "    col(\"date\"),\n",
    "    col(\"situation\"),\n",
    "    col(\"sensor_id\"),\n",
    "    col(\"temperature\"),\n",
    "    col(\"vibration\"),\n",
    "    col(\"equipment_id\").alias(\"equipment\"),\n",
    ")\n",
    "\n",
    "efs_end = efs_tmp.join(\n",
    "    broadcast(eq),\n",
    "    on=[efs_tmp[\"equipment\"] == eq[\"equipment_id\"]],\n",
    "    how=\"left\",\n",
    ").drop(\"equipment\", \"group_name\", \"name\")\n",
    "\n",
    "efs_end = efs_end.dropDuplicates()"
   ]
  },
  {
   "cell_type": "code",
   "execution_count": 12,
   "metadata": {},
   "outputs": [
    {
     "name": "stdout",
     "output_type": "stream",
     "text": [
      "root\n",
      " |-- date: timestamp (nullable = true)\n",
      " |-- situation: integer (nullable = false)\n",
      " |-- sensor_id: integer (nullable = true)\n",
      " |-- temperature: float (nullable = true)\n",
      " |-- vibration: float (nullable = true)\n",
      " |-- equipment_id: integer (nullable = true)\n",
      " |-- group_name_id: integer (nullable = true)\n",
      "\n"
     ]
    }
   ],
   "source": [
    "efs_end.printSchema()"
   ]
  },
  {
   "cell_type": "code",
   "execution_count": 13,
   "metadata": {},
   "outputs": [
    {
     "name": "stdout",
     "output_type": "stream",
     "text": [
      "+-------------------+---------+---------+-----------+---------+------------+-------------+\n",
      "|               date|situation|sensor_id|temperature|vibration|equipment_id|group_name_id|\n",
      "+-------------------+---------+---------+-----------+---------+------------+-------------+\n",
      "|2019-05-08 16:41:55|        1|     8010|     424.18|  9257.33|           8|            4|\n",
      "|2021-09-19 11:33:50|        1|     4746|     187.46| -8001.04|          10|            4|\n",
      "|2020-11-21 20:21:05|        1|      354|     391.65|  -6871.0|          13|            5|\n",
      "|2021-08-11 03:56:03|        1|     7256|      86.46|  2227.63|          11|            3|\n",
      "|2019-02-18 15:26:15|        1|     2958|     369.08|   144.19|          14|            1|\n",
      "|2020-05-09 11:39:44|        1|      404|     349.08|  -7069.6|           7|            0|\n",
      "|2019-06-06 04:09:41|        1|     4726|     455.08| -7051.81|           4|            2|\n",
      "|2019-08-03 01:50:55|        1|     3668|     236.94| -8260.44|           9|            1|\n",
      "|2019-08-02 14:54:53|        1|      525|      463.0|   8878.1|          13|            5|\n",
      "|2020-11-05 05:21:18|        1|     2742|     438.62|    14.15|          14|            1|\n",
      "|2021-04-21 19:55:58|        1|     4857|     361.75|  4546.71|           5|            2|\n",
      "|2020-06-09 19:11:34|        1|     5600|     184.83| -5015.75|           6|            3|\n",
      "|2019-07-13 22:37:59|        1|     9246|     404.26| -6557.84|          12|            0|\n",
      "|2021-07-03 11:47:56|        1|     8589|     199.18|  4831.82|           5|            2|\n",
      "|2020-02-20 20:24:11|        1|     5152|       8.77|   -37.17|           9|            1|\n",
      "|2019-02-07 10:18:14|        1|     1796|     233.18| -2700.69|           8|            4|\n",
      "|2021-06-28 17:10:49|        1|     6032|     106.27| -6565.58|           3|            0|\n",
      "|2019-03-14 07:52:49|        1|     9026|     415.54|  3510.38|           1|            0|\n",
      "|2019-10-02 11:03:38|        1|     5944|     391.99|  5570.47|           9|            1|\n",
      "|2019-04-08 10:54:21|        1|     2545|     121.62|  2898.73|          11|            3|\n",
      "|2021-12-24 08:06:13|        1|     1953|     476.39| -8901.91|          11|            3|\n",
      "|2019-07-05 12:45:00|        1|     6100|      64.24|  3380.54|          14|            1|\n",
      "|2019-07-12 20:08:06|        1|     7019|      64.83|  1818.09|           6|            3|\n",
      "|2020-03-01 20:22:19|        1|     7934|      51.61| -5882.22|           7|            0|\n",
      "|2019-03-24 21:06:45|        1|     6883|     275.79| -4426.66|           8|            4|\n",
      "|2019-04-14 12:47:45|        1|     3540|     123.11|  4759.51|           6|            3|\n",
      "|2020-07-26 20:36:54|        1|     1145|     233.55|  2847.25|          10|            4|\n",
      "+-------------------+---------+---------+-----------+---------+------------+-------------+\n",
      "only showing top 27 rows\n",
      "\n"
     ]
    }
   ],
   "source": [
    "efs_end.show(27)"
   ]
  },
  {
   "cell_type": "code",
   "execution_count": 14,
   "metadata": {},
   "outputs": [],
   "source": [
    "# Criando as views para fazer as consultas\n",
    "efs_end.createOrReplaceTempView(\"efs_end\")\n",
    "eq.createOrReplaceTempView(\"eq\")"
   ]
  },
  {
   "cell_type": "markdown",
   "metadata": {},
   "source": [
    "1. Total equipment failures that happened?"
   ]
  },
  {
   "cell_type": "code",
   "execution_count": 15,
   "metadata": {},
   "outputs": [
    {
     "name": "stdout",
     "output_type": "stream",
     "text": [
      "+--------------+\n",
      "|total_failures|\n",
      "+--------------+\n",
      "|       4749474|\n",
      "+--------------+\n",
      "\n"
     ]
    }
   ],
   "source": [
    "total_failures_df = spark.sql(\n",
    "    \"\"\"\n",
    "    SELECT COUNT(*) AS total_failures\n",
    "    FROM efs_end\n",
    "    WHERE situation = 1\n",
    "\"\"\"\n",
    ")\n",
    "\n",
    "total_failures_df.show() \n",
    "\n",
    "# +--------------+\n",
    "# |total_failures|\n",
    "# +--------------+\n",
    "# |       4749474|\n",
    "# +--------------+"
   ]
  },
  {
   "cell_type": "markdown",
   "metadata": {},
   "source": [
    "2. Which equipment name had most failures?"
   ]
  },
  {
   "cell_type": "code",
   "execution_count": 16,
   "metadata": {},
   "outputs": [
    {
     "name": "stdout",
     "output_type": "stream",
     "text": [
      "+--------------+--------------+\n",
      "|equipment_name|total_failures|\n",
      "+--------------+--------------+\n",
      "|      2C195700|        343800|\n",
      "+--------------+--------------+\n",
      "\n"
     ]
    }
   ],
   "source": [
    "most_failed_equipment = spark.sql(\n",
    "    \"\"\"\n",
    "    SELECT eq.name AS equipment_name, \n",
    "    COUNT(ef.situation) AS total_failures\n",
    "    FROM efs_end ef \n",
    "    LEFT JOIN eq\n",
    "    ON eq.equipment_id = ef.equipment_id\n",
    "    WHERE ef.situation = 1\n",
    "    GROUP BY eq.name\n",
    "    ORDER BY total_failures DESC\n",
    "    LIMIT 1\n",
    "\"\"\"\n",
    ")\n",
    "\n",
    "most_failed_equipment.show()\n",
    "\n",
    "# +--------------+--------------+\n",
    "# |equipment_name|total_failures|\n",
    "# +--------------+--------------+\n",
    "# |      2C195700|        343800|\n",
    "# +--------------+--------------+"
   ]
  },
  {
   "cell_type": "markdown",
   "metadata": {},
   "source": [
    "3. Average amount of failures across equipment group, ordered by the number of failures in ascending order?"
   ]
  },
  {
   "cell_type": "code",
   "execution_count": 17,
   "metadata": {},
   "outputs": [
    {
     "name": "stdout",
     "output_type": "stream",
     "text": [
      "+----------+-----------------+\n",
      "|group_name| average_failures|\n",
      "+----------+-----------------+\n",
      "|  FGHQWR2Q|        336217.25|\n",
      "|  PA92NCXZ|         339070.5|\n",
      "|  9N127Z5P|         340365.5|\n",
      "|  Z9K1SAP4|         340549.0|\n",
      "|  NQWPA8D3|         340818.0|\n",
      "|  VAPQY59S|341182.6666666667|\n",
      "+----------+-----------------+\n",
      "\n"
     ]
    }
   ],
   "source": [
    "average_failures_by_group = spark.sql(\n",
    "    \"\"\"\n",
    "    SELECT eq.group_name, \n",
    "    AVG(ef.failures_sum) AS average_failures\n",
    "    FROM  \n",
    "     (\n",
    "        SELECT equipment_id, \n",
    "        COUNT(situation) AS failures_sum\n",
    "        FROM efs_end\n",
    "        WHERE situation = 1\n",
    "        GROUP BY equipment_id\n",
    "     ) ef\n",
    "    LEFT JOIN eq\n",
    "    ON eq.equipment_id = ef.equipment_id\n",
    "    GROUP BY eq.group_name\n",
    "    ORDER BY average_failures ASC\n",
    "\"\"\"\n",
    ")\n",
    "\n",
    "average_failures_by_group.show()\n",
    "\n",
    "# +----------+-----------------+\n",
    "# |group_name| average_failures|\n",
    "# +----------+-----------------+\n",
    "# |  FGHQWR2Q|        336217.25|\n",
    "# |  PA92NCXZ|         339070.5|\n",
    "# |  9N127Z5P|         340365.5|\n",
    "# |  Z9K1SAP4|         340549.0|\n",
    "# |  NQWPA8D3|         340818.0|\n",
    "# |  VAPQY59S|341182.6666666667|\n",
    "# +----------+-----------------+"
   ]
  },
  {
   "cell_type": "markdown",
   "metadata": {},
   "source": [
    "4.  Rank the sensors which present the most number of errors by equipment name in an equipment group."
   ]
  },
  {
   "cell_type": "code",
   "execution_count": 18,
   "metadata": {},
   "outputs": [
    {
     "name": "stdout",
     "output_type": "stream",
     "text": [
      "+----------+--------------+---------+-----------+----+\n",
      "|group_name|equipment_name|sensor_id|error_count|rank|\n",
      "+----------+--------------+---------+-----------+----+\n",
      "|  9N127Z5P|      78FFAD0C|      582|        570|   1|\n",
      "|  9N127Z5P|      78FFAD0C|     6261|        561|   2|\n",
      "|  9N127Z5P|      78FFAD0C|     1361|        560|   3|\n",
      "|  9N127Z5P|      78FFAD0C|     2871|        557|   4|\n",
      "|  9N127Z5P|      78FFAD0C|     6293|        552|   5|\n",
      "|  9N127Z5P|      78FFAD0C|     6344|        552|   6|\n",
      "|  9N127Z5P|      78FFAD0C|     9917|        552|   7|\n",
      "|  9N127Z5P|      78FFAD0C|     9576|        551|   8|\n",
      "|  9N127Z5P|      78FFAD0C|     2635|        551|   9|\n",
      "|  9N127Z5P|      78FFAD0C|     6231|        551|  10|\n",
      "|  9N127Z5P|      78FFAD0C|     6848|        549|  11|\n",
      "|  9N127Z5P|      78FFAD0C|     7983|        549|  12|\n",
      "|  9N127Z5P|      78FFAD0C|      465|        548|  13|\n",
      "|  9N127Z5P|      78FFAD0C|     3824|        548|  14|\n",
      "|  9N127Z5P|      78FFAD0C|     7776|        546|  15|\n",
      "|  9N127Z5P|      78FFAD0C|     2157|        546|  16|\n",
      "|  9N127Z5P|      78FFAD0C|     4502|        545|  17|\n",
      "|  9N127Z5P|      78FFAD0C|     5539|        545|  18|\n",
      "|  9N127Z5P|      78FFAD0C|     2594|        545|  19|\n",
      "|  9N127Z5P|      78FFAD0C|     7688|        545|  20|\n",
      "+----------+--------------+---------+-----------+----+\n",
      "only showing top 20 rows\n",
      "\n"
     ]
    }
   ],
   "source": [
    "ranked_sensors_by_errors = spark.sql(\n",
    "    \"\"\"\n",
    "    SELECT eq.group_name, \n",
    "    eq.name AS equipment_name, \n",
    "    ef.sensor_id, \n",
    "    COUNT(ef.situation) AS error_count,\n",
    "    ROW_NUMBER() OVER(PARTITION BY eq.group_name, eq.name ORDER BY COUNT(ef.situation) DESC) AS rank\n",
    "    FROM efs_end ef \n",
    "    LEFT JOIN eq  \n",
    "    ON eq.equipment_id = ef.equipment_id\n",
    "    WHERE ef.situation = 1\n",
    "    GROUP BY eq.group_name, eq.name, ef.sensor_id\n",
    "\"\"\"\n",
    ")\n",
    "\n",
    "ranked_sensors_by_errors.show()\n",
    "\n",
    "# +----------+--------------+---------+-----------+----+\n",
    "# |group_name|equipment_name|sensor_id|error_count|rank|\n",
    "# +----------+--------------+---------+-----------+----+\n",
    "# |  9N127Z5P|      78FFAD0C|      582|        570|   1|\n",
    "# |  9N127Z5P|      78FFAD0C|     6261|        561|   2|\n",
    "# |  9N127Z5P|      78FFAD0C|     1361|        560|   3|\n",
    "# |  9N127Z5P|      78FFAD0C|     2871|        557|   4|\n",
    "# |  9N127Z5P|      78FFAD0C|     6293|        552|   5|\n",
    "# |  9N127Z5P|      78FFAD0C|     6344|        552|   6|\n",
    "# |  9N127Z5P|      78FFAD0C|     9917|        552|   7|\n",
    "# |  9N127Z5P|      78FFAD0C|     9576|        551|   8|\n",
    "# |  9N127Z5P|      78FFAD0C|     2635|        551|   9|\n",
    "# |  9N127Z5P|      78FFAD0C|     6231|        551|  10|\n",
    "# |  9N127Z5P|      78FFAD0C|     6848|        549|  11|\n",
    "# |  9N127Z5P|      78FFAD0C|     7983|        549|  12|\n",
    "# |  9N127Z5P|      78FFAD0C|      465|        548|  13|\n",
    "# |  9N127Z5P|      78FFAD0C|     3824|        548|  14|\n",
    "# |  9N127Z5P|      78FFAD0C|     7776|        546|  15|\n",
    "# |  9N127Z5P|      78FFAD0C|     2157|        546|  16|\n",
    "# |  9N127Z5P|      78FFAD0C|     4502|        545|  17|\n",
    "# |  9N127Z5P|      78FFAD0C|     5539|        545|  18|\n",
    "# |  9N127Z5P|      78FFAD0C|     2594|        545|  19|\n",
    "# |  9N127Z5P|      78FFAD0C|     7688|        545|  20|\n",
    "# +----------+--------------+---------+-----------+----+\n",
    "# only showing top 20 rows"
   ]
  },
  {
   "cell_type": "code",
   "execution_count": 19,
   "metadata": {},
   "outputs": [],
   "source": [
    "spark.stop()"
   ]
  },
  {
   "cell_type": "code",
   "execution_count": null,
   "metadata": {},
   "outputs": [],
   "source": []
  }
 ],
 "metadata": {
  "kernelspec": {
   "display_name": "Python 3 (ipykernel)",
   "language": "python",
   "name": "python3"
  },
  "language_info": {
   "codemirror_mode": {
    "name": "ipython",
    "version": 3
   },
   "file_extension": ".py",
   "mimetype": "text/x-python",
   "name": "python",
   "nbconvert_exporter": "python",
   "pygments_lexer": "ipython3",
   "version": "3.11.6"
  }
 },
 "nbformat": 4,
 "nbformat_minor": 2
}
